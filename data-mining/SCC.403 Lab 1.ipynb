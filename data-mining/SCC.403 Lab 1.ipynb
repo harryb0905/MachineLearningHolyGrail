{
 "cells": [
  {
   "cell_type": "markdown",
   "metadata": {},
   "source": [
    "## SCC.403 Data Mining Lab 1: Introduction to Linear Algebra in Python"
   ]
  },
  {
   "cell_type": "markdown",
   "metadata": {},
   "source": [
    "### 1.1 Vector Operations"
   ]
  },
  {
   "cell_type": "code",
   "execution_count": 248,
   "metadata": {},
   "outputs": [],
   "source": [
    "def sum_vectors(a, b):\n",
    "    ''' Computes the element-wise sum of 2 vectors (as Python lists) '''\n",
    "    return [ai + bi for ai, bi in zip(a, b)]"
   ]
  },
  {
   "cell_type": "code",
   "execution_count": 249,
   "metadata": {},
   "outputs": [],
   "source": [
    "def mult_vector(v, lam):\n",
    "    ''' Computes an element-wise multiplication of a scaler, lam, with a vector, v (as a Python list) '''\n",
    "    return [vi * lam for vi in v]"
   ]
  },
  {
   "cell_type": "code",
   "execution_count": 250,
   "metadata": {},
   "outputs": [],
   "source": [
    "def dot_product(a, b):\n",
    "    ''' Computes the dot product of 2 vectors a and b (as Python lists) '''\n",
    "    return sum(ai * bi for ai, bi in zip(a,b))"
   ]
  },
  {
   "cell_type": "code",
   "execution_count": 14,
   "metadata": {},
   "outputs": [],
   "source": [
    "a = [5, 2, 10, 7]\n",
    "b = [2, 3, 4, 9]"
   ]
  },
  {
   "cell_type": "code",
   "execution_count": 15,
   "metadata": {},
   "outputs": [
    {
     "data": {
      "text/plain": [
       "[7, 5, 14, 16]"
      ]
     },
     "execution_count": 15,
     "metadata": {},
     "output_type": "execute_result"
    }
   ],
   "source": [
    "sum_vectors(a, b)"
   ]
  },
  {
   "cell_type": "code",
   "execution_count": 16,
   "metadata": {},
   "outputs": [
    {
     "data": {
      "text/plain": [
       "[25, 10, 50, 35]"
      ]
     },
     "execution_count": 16,
     "metadata": {},
     "output_type": "execute_result"
    }
   ],
   "source": [
    "mult_vector(a, 5)"
   ]
  },
  {
   "cell_type": "code",
   "execution_count": 18,
   "metadata": {},
   "outputs": [
    {
     "data": {
      "text/plain": [
       "119"
      ]
     },
     "execution_count": 18,
     "metadata": {},
     "output_type": "execute_result"
    }
   ],
   "source": [
    "dot_product(a, b)"
   ]
  },
  {
   "cell_type": "markdown",
   "metadata": {},
   "source": [
    "### 1.2 Matrix Operations"
   ]
  },
  {
   "cell_type": "code",
   "execution_count": 251,
   "metadata": {},
   "outputs": [],
   "source": [
    "def mat_mult(a, b):\n",
    "    ''' Performs matrix multiplication of 2 matrices a and b (using a Python list of lists) '''\n",
    "    result = []\n",
    "    for row_idx, row in enumerate(a):\n",
    "        sub_result = []\n",
    "        for i in range(len(a[0])):\n",
    "            cell = 0\n",
    "            for col_idx, col in enumerate(row):\n",
    "                cell += col * b[col_idx][i]\n",
    "            sub_result.append(cell)\n",
    "        result.append(sub_result)\n",
    "    return result"
   ]
  },
  {
   "cell_type": "code",
   "execution_count": 116,
   "metadata": {},
   "outputs": [],
   "source": [
    "a = [[2, 1], [3, 4]]\n",
    "b = [[4, 6], [5, 7]]"
   ]
  },
  {
   "cell_type": "code",
   "execution_count": 117,
   "metadata": {},
   "outputs": [
    {
     "data": {
      "text/plain": [
       "[[13, 19], [32, 46]]"
      ]
     },
     "execution_count": 117,
     "metadata": {},
     "output_type": "execute_result"
    }
   ],
   "source": [
    "mat_mult(a, b)"
   ]
  },
  {
   "cell_type": "markdown",
   "metadata": {},
   "source": [
    "### 1.3 Transpose and Inverse"
   ]
  },
  {
   "cell_type": "code",
   "execution_count": 252,
   "metadata": {},
   "outputs": [],
   "source": [
    "def transpose(a):\n",
    "    ''' Computes the transpose of a vector/matrix a (as a Python list/list of lists) '''\n",
    "    return [[row[i] for row in a] for i in range(len(a[0]))]"
   ]
  },
  {
   "cell_type": "code",
   "execution_count": 151,
   "metadata": {},
   "outputs": [],
   "source": [
    "a = [\n",
    "    [1, 4, 5],\n",
    "    [6, 3, 9], \n",
    "    [4, 3, 1]\n",
    "]"
   ]
  },
  {
   "cell_type": "code",
   "execution_count": 152,
   "metadata": {},
   "outputs": [
    {
     "data": {
      "text/plain": [
       "[[1, 6, 4], [4, 3, 3], [5, 9, 1]]"
      ]
     },
     "execution_count": 152,
     "metadata": {},
     "output_type": "execute_result"
    }
   ],
   "source": [
    "transpose(a)"
   ]
  },
  {
   "cell_type": "code",
   "execution_count": 254,
   "metadata": {},
   "outputs": [],
   "source": [
    "def is_inverse(a, b):\n",
    "    ''' Returns True if b is the inverse matrix of a (as Python lists), False otherwise '''\n",
    "    mult_result = mat_mult(a, b)\n",
    "    for row_idx, row in enumerate(mult_result):\n",
    "        if row[row_idx] != 1 and sum(row) != 1:\n",
    "            return False\n",
    "    return True"
   ]
  },
  {
   "cell_type": "code",
   "execution_count": 255,
   "metadata": {},
   "outputs": [],
   "source": [
    "a = [[2, 1], [1, 1]]\n",
    "b = [[1, -1], [-1, 2]]"
   ]
  },
  {
   "cell_type": "code",
   "execution_count": 256,
   "metadata": {},
   "outputs": [
    {
     "data": {
      "text/plain": [
       "True"
      ]
     },
     "execution_count": 256,
     "metadata": {},
     "output_type": "execute_result"
    }
   ],
   "source": [
    "is_inverse(a, b)"
   ]
  },
  {
   "cell_type": "markdown",
   "metadata": {},
   "source": [
    "### 1.4 Distance Metrics"
   ]
  },
  {
   "cell_type": "code",
   "execution_count": 257,
   "metadata": {},
   "outputs": [],
   "source": [
    "def euclidean(a, b):\n",
    "    ''' Computes the euclidean distance between 2 vectors a and b (as Python lists) '''\n",
    "    return sum((ai - bi) ** 2 for ai, bi in zip(a, b)) ** 0.5"
   ]
  },
  {
   "cell_type": "code",
   "execution_count": 258,
   "metadata": {},
   "outputs": [],
   "source": [
    "a = [1, 2, 3]\n",
    "b = [2, 3, 4]"
   ]
  },
  {
   "cell_type": "code",
   "execution_count": 259,
   "metadata": {},
   "outputs": [
    {
     "data": {
      "text/plain": [
       "1.7320508075688772"
      ]
     },
     "execution_count": 259,
     "metadata": {},
     "output_type": "execute_result"
    }
   ],
   "source": [
    "euclidean(a, b)"
   ]
  },
  {
   "cell_type": "code",
   "execution_count": 260,
   "metadata": {},
   "outputs": [],
   "source": [
    "def low_dist(a):\n",
    "    ''' Returns the pair of list indices with the minimum euclidean distance for rows in matrix a (as a Python list of lists) '''\n",
    "    num_rows = len(a)\n",
    "    cur_min = float(\"inf\")\n",
    "    row_a_idx, row_b_idx = -1, -1\n",
    "    \n",
    "    for row_idx, row in enumerate(a):\n",
    "        num_to_compute = num_rows - (row_idx+1)\n",
    "        for next_row_idx in range(row_idx+1, num_rows):\n",
    "            dist = euclidean(row, a[next_row_idx])\n",
    "            if dist < cur_min:\n",
    "                cur_min = dist\n",
    "                row_a_idx, row_b_idx = row_idx, next_row_idx\n",
    "                \n",
    "    return row_a_idx, row_b_idx"
   ]
  },
  {
   "cell_type": "code",
   "execution_count": 241,
   "metadata": {},
   "outputs": [],
   "source": [
    "a = [\n",
    "    [4, 6, 10],\n",
    "    [1, 2, 3],\n",
    "    [4, 5, 1],\n",
    "    [7, 7, 5],\n",
    "    [1, 9, 10]\n",
    "]"
   ]
  },
  {
   "cell_type": "code",
   "execution_count": 242,
   "metadata": {},
   "outputs": [
    {
     "data": {
      "text/plain": [
       "(0, 4)"
      ]
     },
     "execution_count": 242,
     "metadata": {},
     "output_type": "execute_result"
    }
   ],
   "source": [
    "low_dist(a)"
   ]
  },
  {
   "cell_type": "code",
   "execution_count": 261,
   "metadata": {},
   "outputs": [],
   "source": [
    "def norm(a):\n",
    "    ''' Computes the norm of vector a (as a Python list) '''\n",
    "    return sum(ai ** 2 for ai in a) ** 0.5"
   ]
  },
  {
   "cell_type": "code",
   "execution_count": 223,
   "metadata": {},
   "outputs": [],
   "source": [
    "def cos_similarity(a, b):\n",
    "    ''' Computes the cosine similarity between 2 vectors a and b (as a)'''\n",
    "    return dot_product(a, b) / (norm(a) * norm(b))"
   ]
  },
  {
   "cell_type": "code",
   "execution_count": 236,
   "metadata": {},
   "outputs": [],
   "source": [
    "a = [1, 2, 3]\n",
    "b = [2, 3, 4]"
   ]
  },
  {
   "cell_type": "code",
   "execution_count": 237,
   "metadata": {},
   "outputs": [
    {
     "data": {
      "text/plain": [
       "0.9925833339709302"
      ]
     },
     "execution_count": 237,
     "metadata": {},
     "output_type": "execute_result"
    }
   ],
   "source": [
    "cos_similarity(a, b)"
   ]
  },
  {
   "cell_type": "code",
   "execution_count": null,
   "metadata": {},
   "outputs": [],
   "source": []
  }
 ],
 "metadata": {
  "kernelspec": {
   "display_name": "Python 3",
   "language": "python",
   "name": "python3"
  },
  "language_info": {
   "codemirror_mode": {
    "name": "ipython",
    "version": 3
   },
   "file_extension": ".py",
   "mimetype": "text/x-python",
   "name": "python",
   "nbconvert_exporter": "python",
   "pygments_lexer": "ipython3",
   "version": "3.7.4"
  }
 },
 "nbformat": 4,
 "nbformat_minor": 2
}
